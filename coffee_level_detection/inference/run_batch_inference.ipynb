{
 "cells": [
  {
   "cell_type": "markdown",
   "id": "74a1e9fb",
   "metadata": {},
   "source": [
    "# Coffee Level Detection Batch Inference\n",
    "\n",
    "This notebook runs inference on all images in a given directory using a trained coffeeCNN model and saves results to a JSON file matching the format of `compiled_coffee_level_annotations.json`."
   ]
  },
  {
   "cell_type": "code",
   "execution_count": 1,
   "id": "3cb056ec",
   "metadata": {},
   "outputs": [
    {
     "name": "stdout",
     "output_type": "stream",
     "text": [
      "\u001b[33mWARNING: Ignoring invalid distribution ~vidia-cudnn-cu12 (/opt/conda/lib/python3.12/site-packages)\u001b[0m\u001b[33m\n",
      "\u001b[0m\u001b[33mWARNING: Ignoring invalid distribution ~vidia-cusparse-cu12 (/opt/conda/lib/python3.12/site-packages)\u001b[0m\u001b[33m\n",
      "\u001b[33mWARNING: Ignoring invalid distribution ~vidia-cudnn-cu12 (/opt/conda/lib/python3.12/site-packages)\u001b[0m\u001b[33m\n",
      "\u001b[0m\u001b[33mWARNING: Ignoring invalid distribution ~vidia-cusparse-cu12 (/opt/conda/lib/python3.12/site-packages)\u001b[0m\u001b[33m\n",
      "\u001b[33mWARNING: Ignoring invalid distribution ~vidia-cudnn-cu12 (/opt/conda/lib/python3.12/site-packages)\u001b[0m\u001b[33m\n",
      "\u001b[0m\u001b[33mWARNING: Ignoring invalid distribution ~vidia-cusparse-cu12 (/opt/conda/lib/python3.12/site-packages)\u001b[0m\u001b[33m\n",
      "\u001b[0m"
     ]
    }
   ],
   "source": [
    "# 1. Import Required Libraries\n",
    "!pip install -q ./coffee_level_detection\n",
    "import os\n",
    "import json\n",
    "from datetime import datetime\n",
    "from tqdm import tqdm\n",
    "from coffee_level_detection.inference.tools import infer_coffee_level\n"
   ]
  },
  {
   "cell_type": "code",
   "execution_count": 5,
   "id": "79c78dbb",
   "metadata": {},
   "outputs": [],
   "source": [
    "# 2. Load Pre-trained Inference Model\n",
    "image_dir = \"processed_images\"  # Change as needed\n",
    "model_path = \"coffeeCNN.pth\"  # Change as needed\n",
    "\n",
    "# No need to load model explicitly, infer_coffee_level loads it per call (can be optimized for batch)\n"
   ]
  },
  {
   "cell_type": "code",
   "execution_count": null,
   "id": "e4213579",
   "metadata": {},
   "outputs": [
    {
     "name": "stdout",
     "output_type": "stream",
     "text": [
      "Found 41608 images in processed_images\n"
     ]
    },
    {
     "name": "stderr",
     "output_type": "stream",
     "text": [
      "Running inference batches: 100%|██████████| 1301/1301 [01:08<00:00, 19.06it/s]\n"
     ]
    }
   ],
   "source": [
    "# 3. Run Inference on All Images in image_dir (with batching & concurrency, optimized model loading)\n",
    "\n",
    "import concurrent.futures\n",
    "from coffee_level_detection.inference.tools import load_model, infer_coffee_level_batch\n",
    "\n",
    "results = []\n",
    "annotator = \"inference\"\n",
    "version = \"1.0\"\n",
    "\n",
    "image_files = [f for f in os.listdir(image_dir) if f.lower().endswith(('.jpg', '.png'))]\n",
    "print(f\"Found {len(image_files)} images in {image_dir}\")\n",
    "\n",
    "# --- Batching & Concurrency Parameters ---\n",
    "batch_size = 32  # Change as needed\n",
    "max_workers = 8  # Change as needed\n",
    "\n",
    "device = None  # Set to 'cuda' or 'cpu' if needed\n",
    "model = load_model(model_path, device)\n",
    "\n",
    "def process_batch(batch):\n",
    "    batch_paths = [os.path.join(image_dir, fname) for fname in batch]\n",
    "    try:\n",
    "        coffee_levels = infer_coffee_level_batch(batch_paths, model, device)\n",
    "    except Exception as e:\n",
    "        print(f\"Error processing batch: {e}\")\n",
    "        coffee_levels = [None] * len(batch)\n",
    "    batch_results = []\n",
    "    for fname, coffee_level in zip(batch, coffee_levels['preds']):\n",
    "        batch_results.append({\n",
    "            \"filename\": fname,\n",
    "            \"coffee_level\": coffee_level,\n",
    "            \"timestamp\": datetime.now().isoformat(),\n",
    "            \"annotator\": annotator,\n",
    "            \"version\": version\n",
    "        })\n",
    "    return batch_results\n",
    "\n",
    "def process_batch_with_confidence(batch):\n",
    "    \"\"\"\n",
    "    Process a batch of images and extract predictions with confidence scores.\n",
    "    \n",
    "    Args:\n",
    "        batch (list): List of image filenames to process\n",
    "        \n",
    "    Returns:\n",
    "        list: List of annotation dictionaries with confidence data\n",
    "    \"\"\"\n",
    "    batch_paths = [os.path.join(image_dir, fname) for fname in batch]\n",
    "    batch_results = []\n",
    "    \n",
    "    try:\n",
    "        # Get inference results with probabilities and confidence\n",
    "        inference_results = infer_coffee_level_batch(batch_paths, model, device)\n",
    "        \n",
    "        # Extract components from the returned dictionary\n",
    "        predictions = inference_results['preds']\n",
    "        confidences = inference_results['conf'] \n",
    "        probabilities = inference_results['prob']\n",
    "        \n",
    "        # Process each image result\n",
    "        for fname, pred, conf, prob_dist in zip(batch, predictions, confidences, probabilities):\n",
    "            batch_results.append({\n",
    "                \"filename\": fname,\n",
    "                \"coffee_level\": int(pred) if pred is not None else None,\n",
    "                \"confidence\": float(conf) if conf is not None else 0.0,\n",
    "                \"probability_distribution\": prob_dist.tolist() if isinstance(prob_dist, np.ndarray) else prob_dist,\n",
    "                \"timestamp\": datetime.now().isoformat(),\n",
    "                \"annotator\": annotator,\n",
    "                \"version\": version\n",
    "            })\n",
    "            \n",
    "    except Exception as e:\n",
    "        print(f\"Error processing batch: {e}\")\n",
    "        # Create error entries for all files in batch\n",
    "        for fname in batch:\n",
    "            batch_results.append({\n",
    "                \"filename\": fname,\n",
    "                \"coffee_level\": None,\n",
    "                \"confidence\": 0.0,\n",
    "                \"probability_distribution\": None,\n",
    "                \"timestamp\": datetime.now().isoformat(),\n",
    "                \"annotator\": annotator,\n",
    "                \"version\": version,\n",
    "                \"error\": str(e)\n",
    "            })\n",
    "    \n",
    "    return batch_results\n",
    "\n",
    "# Split image_files into batches\n",
    "def batchify(lst, n):\n",
    "    for i in range(0, len(lst), n):\n",
    "        yield lst[i:i + n]\n",
    "\n",
    "with concurrent.futures.ThreadPoolExecutor(max_workers=max_workers) as executor:\n",
    "    futures = []\n",
    "    for batch in batchify(image_files, batch_size):\n",
    "        futures.append(executor.submit(process_batch_with_confidence, batch))\n",
    "    for future in tqdm(concurrent.futures.as_completed(futures), total=len(futures), desc=\"Running inference batches\"):\n",
    "        results.extend(future.result())\n"
   ]
  },
  {
   "cell_type": "code",
   "execution_count": 7,
   "id": "7fd36c1f",
   "metadata": {},
   "outputs": [],
   "source": [
    "# 4. Compile Results into JSON Format\n",
    "output_json = {\n",
    "    \"total_annotated\": len(results),\n",
    "    \"session_timestamp\": datetime.now().isoformat(),\n",
    "    \"level_distribution\": {},\n",
    "    \"annotation_data\": results\n",
    "}\n",
    "\n",
    "# Compute level distribution\n",
    "levels = [r[\"coffee_level\"] for r in results if r[\"coffee_level\"] is not None]\n",
    "from collections import Counter\n",
    "output_json[\"level_distribution\"] = dict(Counter(levels))\n"
   ]
  },
  {
   "cell_type": "code",
   "execution_count": 8,
   "id": "500e9497",
   "metadata": {},
   "outputs": [
    {
     "name": "stdout",
     "output_type": "stream",
     "text": [
      "Saved inference results to inference_coffee_level_annotations.json\n"
     ]
    }
   ],
   "source": [
    "# 5. Save Results to JSON File\n",
    "output_path = \"inference_coffee_level_annotations.json\"  # Change as needed\n",
    "with open(output_path, \"w\", encoding=\"utf-8\") as f:\n",
    "    json.dump(output_json, f, indent=2)\n",
    "print(f\"Saved inference results to {output_path}\")"
   ]
  }
 ],
 "metadata": {
  "kernelspec": {
   "display_name": "Python 3 (ipykernel)",
   "language": "python",
   "name": "python3"
  },
  "language_info": {
   "codemirror_mode": {
    "name": "ipython",
    "version": 3
   },
   "file_extension": ".py",
   "mimetype": "text/x-python",
   "name": "python",
   "nbconvert_exporter": "python",
   "pygments_lexer": "ipython3",
   "version": "3.12.9"
  }
 },
 "nbformat": 4,
 "nbformat_minor": 5
}
