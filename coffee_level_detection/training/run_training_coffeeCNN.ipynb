{
 "cells": [
  {
   "cell_type": "markdown",
   "id": "140192ce",
   "metadata": {},
   "source": [
    "# Clone and Install Project\n",
    "This step clones the coffee_level_detection repository and installs the package locally."
   ]
  },
  {
   "cell_type": "code",
   "execution_count": null,
   "id": "8fcf6d32",
   "metadata": {},
   "outputs": [],
   "source": [
    "!git clone https://github.com/PlayerPlanet/coffee_level_detection.git\n",
    "%pip install ./coffee_level_detection"
   ]
  },
  {
   "cell_type": "markdown",
   "id": "53e798c7",
   "metadata": {},
   "source": [
    "# Check Python Environment and Paths\n",
    "This cell verifies the Python executable, checks that the training module is importable, and ensures dataset/image directories exist before running training."
   ]
  },
  {
   "cell_type": "code",
   "execution_count": null,
   "id": "8687008b",
   "metadata": {},
   "outputs": [],
   "source": [
    "import sys, importlib.util, os\n",
    "img_dir = \"\"\n",
    "dataset_dir = \"\"\n",
    "batch = 10\n",
    "epochs = 100\n",
    "executable_path = \"coffee_level_detection.training.train_coffeeCNN\"\n",
    "\n",
    "# Basic checks\n",
    "if not sys.executable:\n",
    "    raise RuntimeError(\"No Python executable found in sys.executable\")\n",
    "\n",
    "spec = importlib.util.find_spec(executable_path)\n",
    "if spec is None:\n",
    "    print(f\"Module '{executable_path}' not importable. Make sure package is installed or PYTHONPATH includes the project root.\")\n",
    "    # Optionally continue or raise\n",
    "    raise SystemExit(1)\n",
    "\n",
    "if dataset_dir and not os.path.exists(dataset_dir):\n",
    "    print(f\"Dataset directory does not exist: {dataset_dir}\")\n",
    "    raise SystemExit(1)\n",
    "\n",
    "if img_dir and not os.path.exists(img_dir):\n",
    "    print(f\"Image directory does not exist: {img_dir}\")\n",
    "    raise SystemExit(1)"
   ]
  },
  {
   "cell_type": "markdown",
   "id": "859abd51",
   "metadata": {},
   "source": [
    "# Run Training Script and Save Output to Log\n",
    "This cell runs the training script using subprocess, streams output to the notebook, and saves all lines to log.txt with timestamps."
   ]
  },
  {
   "cell_type": "code",
   "execution_count": null,
   "id": "0d7dbaa5",
   "metadata": {},
   "outputs": [],
   "source": [
    "import subprocess\n",
    "\n",
    "cmd = [\n",
    "    \"python\", \"-m\", executable_path,\n",
    "    \"--f\", dataset_dir,\n",
    "    \"--batch\", batch,\n",
    "    \"--epochs\", epochs,\n",
    "    \"--img_dir\", img_dir\n",
    "]\n",
    "process = subprocess.Popen(cmd, stdout=subprocess.PIPE, stderr=subprocess.STDOUT, text=True)\n",
    "\n",
    "print(\"Running:\", \" \".join(cmd))\n",
    "\n",
    "log_path = \"log.txt\"\n",
    "with open(log_path, \"a\", encoding=\"utf-8\") as log_f:\n",
    "    log_f.write(f\"\\n--- Run started at {__import__('datetime').datetime.now().isoformat()} ---\\n\")\n",
    "    process = subprocess.Popen(cmd, stdout=subprocess.PIPE, stderr=subprocess.STDOUT, text=True)\n",
    "\n",
    "    for line in process.stdout:\n",
    "        print(line, end='')\n",
    "        log_f.write(line)\n",
    "        log_f.flush()\n",
    "\n",
    "    returncode = process.wait()\n",
    "    log_f.write(f\"\\n--- Run finished with exit code {returncode} at {__import__('datetime').datetime.now().isoformat()} ---\\n\")\n",
    "    \n",
    "process.wait()"
   ]
  },
  {
   "cell_type": "markdown",
   "id": "6ffb013c",
   "metadata": {},
   "source": [
    "# Graph Training Loss Evolution\n",
    "This cell parses the log file for epoch loss lines and plots the training loss evolution using matplotlib."
   ]
  },
  {
   "cell_type": "code",
   "execution_count": null,
   "id": "ba04b7ac",
   "metadata": {},
   "outputs": [],
   "source": [
    "import re\n",
    "from pathlib import Path\n",
    "import matplotlib.pyplot as plt\n",
    "\n",
    "log_path = Path(\"log.txt\")\n",
    "if not log_path.exists():\n",
    "    raise FileNotFoundError(f\"{log_path} not found. Run training first to create the log.\")\n",
    "\n",
    "pattern = re.compile(r\"Epoch\\s+(\\d+)[^\\d]*Loss:\\s*([-+]?\\d+(?:\\.\\d+)?(?:[eE][-+]?\\d+)?)\")\n",
    "epoch_loss = {}\n",
    "\n",
    "with log_path.open(\"r\", encoding=\"utf-8\") as f:\n",
    "    for line in f:\n",
    "        m = pattern.search(line)\n",
    "        if m:\n",
    "            epoch = int(m.group(1))\n",
    "            loss = float(m.group(2))\n",
    "            # keep last seen loss for the epoch (overwrites if duplicate)\n",
    "            epoch_loss[epoch] = loss\n",
    "\n",
    "if not epoch_loss:\n",
    "    raise RuntimeError(\"No epoch loss lines found in log.txt. Expected lines like: 'Epoch 1, Loss: 0.1234'\")\n",
    "\n",
    "# sort by epoch and prepare lists\n",
    "epochs = sorted(epoch_loss.keys())\n",
    "losses = [epoch_loss[e] for e in epochs]\n",
    "\n",
    "plt.figure(figsize=(8,5))\n",
    "plt.plot(epochs, losses, marker='o', linestyle='-')\n",
    "plt.title(\"Training Loss per Epoch (from log.txt)\")\n",
    "plt.xlabel(\"Epoch\")\n",
    "plt.ylabel(\"Loss\")\n",
    "plt.grid(True)\n",
    "plt.xticks(epochs)\n",
    "plt.tight_layout()\n",
    "plt.show()\n",
    "\n",
    "# optionally save plot\n",
    "plt.savefig(\"training_loss.png\", dpi=150)\n",
    "# ...existing code..."
   ]
  },
  {
   "cell_type": "markdown",
   "id": "25a03063",
   "metadata": {},
   "source": [
    "# (Optional) Custom Analysis or Next Steps\n",
    "Use this cell for further analysis, saving results, or experimenting with outputs after training and visualization."
   ]
  },
  {
   "cell_type": "code",
   "execution_count": null,
   "id": "4525e462",
   "metadata": {},
   "outputs": [],
   "source": []
  }
 ],
 "metadata": {
  "language_info": {
   "name": "python"
  }
 },
 "nbformat": 4,
 "nbformat_minor": 5
}
