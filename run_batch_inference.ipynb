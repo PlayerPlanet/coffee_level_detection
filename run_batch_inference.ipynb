{
 "cells": [
  {
   "cell_type": "markdown",
   "id": "74a1e9fb",
   "metadata": {},
   "source": [
    "# Coffee Level Detection Batch Inference\n",
    "\n",
    "This notebook runs inference on all images in a given directory using a trained coffeeCNN model and saves results to a JSON file matching the format of `compiled_coffee_level_annotations.json`."
   ]
  },
  {
   "cell_type": "code",
   "execution_count": null,
   "id": "3cb056ec",
   "metadata": {},
   "outputs": [],
   "source": [
    "# 1. Import Required Libraries\n",
    "import os\n",
    "import json\n",
    "from datetime import datetime\n",
    "from tqdm import tqdm\n",
    "from coffee_level_detection.inference.tools import infer_coffee_level\n"
   ]
  },
  {
   "cell_type": "code",
   "execution_count": null,
   "id": "79c78dbb",
   "metadata": {},
   "outputs": [],
   "source": [
    "# 2. Load Pre-trained Inference Model\n",
    "image_dir = \"processed_images\"  # Change as needed\n",
    "model_path = \"coffee_level_detection/inference/coffeeCNN.pth\"  # Change as needed\n",
    "\n",
    "# No need to load model explicitly, infer_coffee_level loads it per call (can be optimized for batch)\n"
   ]
  },
  {
   "cell_type": "code",
   "execution_count": null,
   "id": "e4213579",
   "metadata": {},
   "outputs": [],
   "source": [
    "# 3. Run Inference on All Images in image_dir\n",
    "results = []\n",
    "annotator = \"inference\"\n",
    "version = \"1.0\"\n",
    "\n",
    "image_files = [f for f in os.listdir(image_dir) if f.lower().endswith(('.jpg', '.png'))]\n",
    "print(f\"Found {len(image_files)} images in {image_dir}\")\n",
    "\n",
    "for fname in tqdm(image_files, desc=\"Running inference\"):\n",
    "    img_path = os.path.join(image_dir, fname)\n",
    "    try:\n",
    "        coffee_level = infer_coffee_level(img_path, model_path)\n",
    "    except Exception as e:\n",
    "        print(f\"Error processing {fname}: {e}\")\n",
    "        coffee_level = None\n",
    "    results.append({\n",
    "        \"filename\": fname,\n",
    "        \"coffee_level\": coffee_level,\n",
    "        \"timestamp\": datetime.now().isoformat(),\n",
    "        \"annotator\": annotator,\n",
    "        \"version\": version\n",
    "    })\n"
   ]
  },
  {
   "cell_type": "code",
   "execution_count": null,
   "id": "7fd36c1f",
   "metadata": {},
   "outputs": [],
   "source": [
    "# 4. Compile Results into JSON Format\n",
    "output_json = {\n",
    "    \"total_annotated\": len(results),\n",
    "    \"session_timestamp\": datetime.now().isoformat(),\n",
    "    \"level_distribution\": {},\n",
    "    \"annotation_data\": results\n",
    "}\n",
    "\n",
    "# Compute level distribution\n",
    "levels = [r[\"coffee_level\"] for r in results if r[\"coffee_level\"] is not None]\n",
    "from collections import Counter\n",
    "output_json[\"level_distribution\"] = dict(Counter(levels))\n"
   ]
  },
  {
   "cell_type": "code",
   "execution_count": null,
   "id": "500e9497",
   "metadata": {},
   "outputs": [],
   "source": [
    "# 5. Save Results to JSON File\n",
    "output_path = \"inference_coffee_level_annotations.json\"  # Change as needed\n",
    "with open(output_path, \"w\", encoding=\"utf-8\") as f:\n",
    "    json.dump(output_json, f, indent=2)\n",
    "print(f\"Saved inference results to {output_path}\")"
   ]
  }
 ],
 "metadata": {
  "language_info": {
   "name": "python"
  }
 },
 "nbformat": 4,
 "nbformat_minor": 5
}
